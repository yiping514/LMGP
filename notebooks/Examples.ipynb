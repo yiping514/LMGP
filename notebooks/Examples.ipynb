{
 "cells": [
  {
   "cell_type": "code",
   "execution_count": 3,
   "metadata": {},
   "outputs": [
    {
     "ename": "ModuleNotFoundError",
     "evalue": "No module named 'lmgp_pytorch.test_functions'",
     "output_type": "error",
     "traceback": [
      "\u001b[1;31m---------------------------------------------------------------------------\u001b[0m",
      "\u001b[1;31mModuleNotFoundError\u001b[0m                       Traceback (most recent call last)",
      "Cell \u001b[1;32mIn[3], line 4\u001b[0m\n\u001b[0;32m      2\u001b[0m \u001b[39mimport\u001b[39;00m \u001b[39mtorch\u001b[39;00m\n\u001b[0;32m      3\u001b[0m \u001b[39mfrom\u001b[39;00m \u001b[39mlmgp_pytorch\u001b[39;00m\u001b[39m.\u001b[39;00m\u001b[39mmodels\u001b[39;00m \u001b[39mimport\u001b[39;00m LMGP\n\u001b[1;32m----> 4\u001b[0m \u001b[39mfrom\u001b[39;00m \u001b[39mlmgp_pytorch\u001b[39;00m\u001b[39m.\u001b[39;00m\u001b[39mtest_functions\u001b[39;00m\u001b[39m.\u001b[39;00m\u001b[39mphysical\u001b[39;00m \u001b[39mimport\u001b[39;00m borehole\n\u001b[0;32m      5\u001b[0m \u001b[39mfrom\u001b[39;00m \u001b[39mlmgp_pytorch\u001b[39;00m\u001b[39m.\u001b[39;00m\u001b[39mpreprocessing\u001b[39;00m \u001b[39mimport\u001b[39;00m train_test_split_normalizeX\n\u001b[0;32m      6\u001b[0m \u001b[39mfrom\u001b[39;00m \u001b[39mlmgp_pytorch\u001b[39;00m\u001b[39m.\u001b[39;00m\u001b[39mutils\u001b[39;00m \u001b[39mimport\u001b[39;00m set_seed\n",
      "\u001b[1;31mModuleNotFoundError\u001b[0m: No module named 'lmgp_pytorch.test_functions'"
     ]
    }
   ],
   "source": [
    "#!/usr/bin/env python\n",
    "import torch\n",
    "from lmgp_pytorch.models import LMGP\n",
    "from lmgp_pytorch.test_functions.physical import borehole\n",
    "from lmgp_pytorch.preprocessing import train_test_split_normalizeX\n",
    "from lmgp_pytorch.utils import set_seed\n",
    "from lmgp_pytorch.optim import fit_model_scipy\n",
    "\n",
    "random_state = 12345\n",
    "set_seed(random_state)\n",
    "\n",
    "\n",
    "############################ Generate Data #########################################\n",
    "X, y = borehole(n=10000, random_state=12345)\n",
    "############################## train test split ####################################\n",
    "Xtrain, Xtest, ytrain, ytest = train_test_split_normalizeX(\n",
    "    X, y, test_size=0.99)\n",
    "############################### Model ##############################################\n",
    "model = LMGP(Xtrain, ytrain)\n",
    "############################### Fit Model ##########################################\n",
    "_ = fit_model_scipy(model, num_restarts=12)\n",
    "############################### Score ##############################################\n",
    "model.score(Xtest, ytest, plot_MSE=True)\n",
    "model.show()"
   ]
  },
  {
   "cell_type": "code",
   "execution_count": null,
   "metadata": {},
   "outputs": [],
   "source": []
  }
 ],
 "metadata": {
  "kernelspec": {
   "display_name": "LMGP",
   "language": "python",
   "name": "python3"
  },
  "language_info": {
   "codemirror_mode": {
    "name": "ipython",
    "version": 3
   },
   "file_extension": ".py",
   "mimetype": "text/x-python",
   "name": "python",
   "nbconvert_exporter": "python",
   "pygments_lexer": "ipython3",
   "version": "3.9.16"
  },
  "orig_nbformat": 4
 },
 "nbformat": 4,
 "nbformat_minor": 2
}
