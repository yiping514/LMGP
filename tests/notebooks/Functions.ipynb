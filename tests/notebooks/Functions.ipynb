{
 "cells": [
  {
   "cell_type": "code",
   "execution_count": 1,
   "metadata": {},
   "outputs": [],
   "source": [
    "import numpy as np\n",
    "import matplotlib.pyplot as plt"
   ]
  },
  {
   "cell_type": "code",
   "execution_count": 2,
   "metadata": {},
   "outputs": [],
   "source": [
    "from lmgp_pytorch.test_functions.physical import wing"
   ]
  },
  {
   "cell_type": "code",
   "execution_count": 3,
   "metadata": {},
   "outputs": [],
   "source": [
    "X1, y1 = wing(n = 1000, noise_std=0.0, random_state = 12345, shuffle = False)"
   ]
  },
  {
   "cell_type": "code",
   "execution_count": 4,
   "metadata": {},
   "outputs": [
    {
     "data": {
      "text/plain": [
       "(1000,)"
      ]
     },
     "execution_count": 4,
     "metadata": {},
     "output_type": "execute_result"
    }
   ],
   "source": [
    "y1.shape"
   ]
  },
  {
   "cell_type": "code",
   "execution_count": 5,
   "metadata": {},
   "outputs": [],
   "source": [
    "\n",
    "X2, y2 = wing(n = 1000, noise_std=3.0, random_state = 12345, shuffle = False)"
   ]
  },
  {
   "cell_type": "code",
   "execution_count": 6,
   "metadata": {},
   "outputs": [
    {
     "data": {
      "text/plain": [
       "(1000,)"
      ]
     },
     "execution_count": 6,
     "metadata": {},
     "output_type": "execute_result"
    }
   ],
   "source": [
    "y2.shape"
   ]
  },
  {
   "cell_type": "code",
   "execution_count": 7,
   "metadata": {},
   "outputs": [
    {
     "data": {
      "text/plain": [
       "<matplotlib.collections.PathCollection at 0x1dd41b745e0>"
      ]
     },
     "execution_count": 7,
     "metadata": {},
     "output_type": "execute_result"
    },
    {
     "data": {
      "image/png": "[encoded data removed]",
      "text/plain": [
       "<Figure size 432x288 with 1 Axes>"
      ]
     },
     "metadata": {
      "needs_background": "light"
     },
     "output_type": "display_data"
    }
   ],
   "source": [
    "plt.scatter(y1,y2)\n",
    "plt.scatter(y1,y1,color = 'red')"
   ]
  },
  {
   "cell_type": "code",
   "execution_count": 8,
   "metadata": {},
   "outputs": [],
   "source": [
    "from lmgp_pytorch.test_functions.physical import Borehole_mixed_variables"
   ]
  },
  {
   "cell_type": "code",
   "execution_count": 9,
   "metadata": {},
   "outputs": [],
   "source": [
    "X, y = Borehole_mixed_variables()"
   ]
  },
  {
   "cell_type": "code",
   "execution_count": 10,
   "metadata": {},
   "outputs": [],
   "source": [
    "from collections import Counter"
   ]
  },
  {
   "cell_type": "code",
   "execution_count": 13,
   "metadata": {},
   "outputs": [
    {
     "data": {
      "text/plain": [
       "Counter({0.09255819123630551: 20,\n",
       "         0.12173120851946322: 19,\n",
       "         0.0770418505208493: 28,\n",
       "         0.14469078945747083: 23,\n",
       "         0.08322030097201324: 10})"
      ]
     },
     "execution_count": 13,
     "metadata": {},
     "output_type": "execute_result"
    }
   ],
   "source": [
    "Counter(X[:,0])"
   ]
  },
  {
   "cell_type": "code",
   "execution_count": 12,
   "metadata": {},
   "outputs": [
    {
     "data": {
      "text/plain": [
       "array([ 62.49108047,  79.69335348, 117.08596079,  47.70877331,\n",
       "       169.21149292,  47.9347527 ,  89.72047005,  60.73548564,\n",
       "        36.75709786,  47.9347527 ,  62.89870177, 108.72218029,\n",
       "        37.11864308,  39.24205302, 107.63918986, 191.73381789,\n",
       "        37.27629044,  52.48385857, 102.17158582,  41.09155414,\n",
       "        36.75709786,  61.67818575,  57.99285213,  61.41466995,\n",
       "        62.89870177,  33.60323283,  33.6599406 , 104.71280023,\n",
       "       191.73381789,  38.99394848, 167.60445549,  57.99285213,\n",
       "        34.69920706,  87.95927277,  54.73763391, 102.17158582,\n",
       "        95.22768769, 155.45711403,  47.79901285,  68.85964578,\n",
       "        36.66019088,  37.11864308, 129.39143937,  50.04572021,\n",
       "        41.1437198 ,  79.69335348,  31.72277882,  36.66019088,\n",
       "        60.00487705, 125.42778111,  62.49108047,  33.60323283,\n",
       "        42.60497277,  33.21494308, 191.73381789, 107.24886049,\n",
       "       154.75276502, 107.63918986, 155.45711403,  89.72047005,\n",
       "       125.42778111,  61.41466995, 114.26747481, 114.26747481,\n",
       "        47.9347527 ,  39.08998379,  61.41466995,  48.51560766,\n",
       "       110.50918981,  62.51984947,  39.08998379,  34.98005083,\n",
       "        95.22768769,  37.27629044, 129.39143937,  36.75709786,\n",
       "       143.45884194,  79.69335348,  39.38570721,  40.38029784,\n",
       "       131.40285296, 104.30201879, 129.51095521,  36.75709786,\n",
       "       167.60445549, 191.33964197,  50.04572021, 159.6165128 ,\n",
       "        68.78062846,  77.62830217, 104.96125704,  39.08998379,\n",
       "       143.45884194,  93.2003425 ,  37.27629044,  64.58181464,\n",
       "        89.44647674, 162.04755138, 107.63918986, 169.21149292])"
      ]
     },
     "execution_count": 12,
     "metadata": {},
     "output_type": "execute_result"
    }
   ],
   "source": [
    "y"
   ]
  },
  {
   "cell_type": "code",
   "execution_count": null,
   "metadata": {},
   "outputs": [],
   "source": []
  }
 ],
 "metadata": {
  "kernelspec": {
   "display_name": "Python 3.8.5 64-bit",
   "language": "python",
   "name": "python3"
  },
  "language_info": {
   "codemirror_mode": {
    "name": "ipython",
    "version": 3
   },
   "file_extension": ".py",
   "mimetype": "text/x-python",
   "name": "python",
   "nbconvert_exporter": "python",
   "pygments_lexer": "ipython3",
   "version": "3.8.5"
  },
  "orig_nbformat": 4,
  "vscode": {
   "interpreter": {
    "hash": "ae81ae9375f041a5b53890a12241d489123c066c31b91487671cf31112db3d30"
   }
  }
 },
 "nbformat": 4,
 "nbformat_minor": 2
}
