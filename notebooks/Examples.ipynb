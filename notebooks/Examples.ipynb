{
 "cells": [
  {
   "attachments": {},
   "cell_type": "markdown",
   "metadata": {},
   "source": [
    "## MF_Wings\n"
   ]
  },
  {
   "cell_type": "code",
   "execution_count": null,
   "metadata": {},
   "outputs": [],
   "source": [
    "#!/usr/bin/env python\n",
    "# coding: utf-8\n",
    "\n",
    "from lmgp_pytorch.models import LMGP\n",
    "from lmgp_pytorch.test_functions.multi_fidelity import multi_fidelity_wing\n",
    "from lmgp_pytorch.preprocessing import train_test_split_normalizeX\n",
    "from lmgp_pytorch.utils import set_seed\n",
    "from lmgp_pytorch.optim import fit_model_scipy\n",
    "\n",
    "###############Parameters########################\n",
    "random_state = 4\n",
    "set_seed(random_state)\n",
    "qual_index = {10:4}\n",
    "num={'0': 5000, '1': 10000, '2': 10000, '3': 10000}\n",
    "noise_std={'0': 0.5, '1': 1.0, '2': 1.5, '3': 2.0}\n",
    "############################ Generate Data #########################################\n",
    "X, y = multi_fidelity_wing(n = num, noise_std= noise_std, random_state = random_state)\n",
    "############################## train test split ####################################\n",
    "Xtrain, Xtest, ytrain, ytest = train_test_split_normalizeX(X, y, test_size = 0.99, \n",
    "    qual_index_val= qual_index, stratify= X[...,list(qual_index.keys())])\n",
    "############################### Model ##############################################\n",
    "model = LMGP(Xtrain, ytrain, qual_ind_lev=qual_index)\n",
    "############################### Fit Model ##########################################\n",
    "_ = fit_model_scipy(model)\n",
    "############################### Score ##############################################\n",
    "model.score(Xtest, ytest, plot_MSE=True, seperate_levels=True)\n",
    "############################### Latent Map ##############################################\n",
    "_ = model.visualize_latent()\n",
    "model.show()"
   ]
  },
  {
   "attachments": {},
   "cell_type": "markdown",
   "metadata": {},
   "source": [
    "## Test Benchmarks: 1D, Multi-fidelity\n",
    "### Bias only model"
   ]
  },
  {
   "cell_type": "code",
   "execution_count": 7,
   "metadata": {},
   "outputs": [
    {
     "name": "stdout",
     "output_type": "stream",
     "text": [
      "y_pred = tensor([ 1.2989,  1.7147, -0.0933,  1.0896,  0.0782,  0.9393,  1.1490, -0.6389,\n",
      "        -0.7690,  0.5261, -0.8856,  0.0705,  0.9634,  0.7250,  0.8966, -0.9179,\n",
      "        -0.2318,  0.2268, -0.8241,  1.7337, -0.7500,  2.0758, -0.8336,  2.5009,\n",
      "         1.1291,  0.5625,  0.5249,  2.6104,  1.8671, -0.9299,  0.5058, -0.0451,\n",
      "         1.2736, -0.4072,  0.6468,  1.5885, -0.1432,  2.5969, -0.2719,  0.7866,\n",
      "         1.5163, -0.2206,  0.3651,  1.3364,  1.1087,  0.5041, -0.0579,  0.0547,\n",
      "         1.4534,  0.4010,  2.3892,  2.1141,  2.2301,  0.0894],\n",
      "       dtype=torch.float64)\n"
     ]
    }
   ],
   "source": [
    "from lmgp_pytorch.models import LMGP\n",
    "from lmgp_pytorch.test_functions.test_benchmarks import multi_fidelity_bias_only\n",
    "from lmgp_pytorch.preprocessing import train_test_split_normalizeX\n",
    "from lmgp_pytorch.utils import set_seed\n",
    "from lmgp_pytorch.optim import fit_model_scipy\n",
    "\n",
    "###############Parameters########################\n",
    "random_state = 4\n",
    "set_seed(random_state)\n",
    "qual_index = {1:3}\n",
    "num={'0':20, '1': 20, '2': 20}\n",
    "noise_std={'0': 0, '1': 0, '2': 0}\n",
    "############################ Generate Data #########################################\n",
    "X, y = multi_fidelity_bias_only(n = num, noise_std= noise_std, random_state = random_state)\n",
    "############################## train test split ####################################\n",
    "Xtrain, Xtest, ytrain, ytest = train_test_split_normalizeX(X, y, test_size = 0.9, \n",
    "    qual_index_val= qual_index, stratify= X[...,list(qual_index.keys())])\n",
    "############################### Model ##############################################\n",
    "model = LMGP(Xtrain, ytrain, qual_ind_lev=qual_index)\n",
    "############################### Fit Model ##########################################\n",
    "_ = fit_model_scipy(model)\n",
    "############################### Score ##############################################\n",
    "#model.score(Xtest, ytest, plot_MSE=True, seperate_levels=True)\n",
    "############################### Latent Map ##############################################\n",
    "#_ = model.visualize_latent()\n",
    "############################### Predict #############################################\n",
    "y_pred = model.predict(Xtest,return_std=False )\n",
    "print(\"y_pred =\", y_pred)\n",
    "############################## Visualization ########################################\n",
    "#model.show()"
   ]
  },
  {
   "cell_type": "code",
   "execution_count": null,
   "metadata": {},
   "outputs": [],
   "source": []
  },
  {
   "cell_type": "code",
   "execution_count": null,
   "metadata": {},
   "outputs": [],
   "source": []
  }
 ],
 "metadata": {
  "kernelspec": {
   "display_name": "LMGP",
   "language": "python",
   "name": "python3"
  },
  "language_info": {
   "codemirror_mode": {
    "name": "ipython",
    "version": 3
   },
   "file_extension": ".py",
   "mimetype": "text/x-python",
   "name": "python",
   "nbconvert_exporter": "python",
   "pygments_lexer": "ipython3",
   "version": "3.9.16"
  },
  "orig_nbformat": 4
 },
 "nbformat": 4,
 "nbformat_minor": 2
}
